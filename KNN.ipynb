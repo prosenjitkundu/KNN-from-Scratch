{
 "cells": [
  {
   "cell_type": "code",
   "execution_count": 1,
   "id": "5546afad",
   "metadata": {},
   "outputs": [],
   "source": [
    "import pandas as pd\n",
    "import numpy as np\n",
    "import math\n",
    "import operator"
   ]
  },
  {
   "cell_type": "code",
   "execution_count": 2,
   "id": "e423a368",
   "metadata": {},
   "outputs": [],
   "source": [
    "datatrain = pd.read_csv(\"project2.csv\").values\n",
    "datatest = pd.read_csv(\"project2_test.csv\").values"
   ]
  },
  {
   "cell_type": "code",
   "execution_count": 3,
   "id": "c66aa608",
   "metadata": {},
   "outputs": [],
   "source": [
    "end = len(datatrain[0])-1\n",
    "X_train = datatrain[:,:end]\n",
    "X_test = datatest\n",
    "Y_train = datatrain[:,-1]"
   ]
  },
  {
   "cell_type": "code",
   "execution_count": 9,
   "id": "2718755c",
   "metadata": {},
   "outputs": [],
   "source": [
    "class KNN:\n",
    "    def __init__(self):\n",
    "        self.k = None\n",
    "        \n",
    "    def distance(self, X1, X2):\n",
    "        eucl_dist = np.sqrt(np.sum((X1-X2)**2))\n",
    "        return eucl_dist\n",
    "    \n",
    "    def KNN_classification(self,X_train, X_test, Y_train, k):\n",
    "        distances = []\n",
    "        para1 = X_test\n",
    "        for j in range((X_train).shape[0]):\n",
    "            para2 = X_train[j]\n",
    "            distances.append((Y_train[j], self.distance(para1, para2)))\n",
    "        distances.sort(key=operator.itemgetter(1))\n",
    "        k_closest = []\n",
    "        k_closest = distances[:k]\n",
    "        return k_closest\n",
    "        \n",
    "    def fit(self, X_train, X_test, Y_train, k):\n",
    "        closest_dist = []\n",
    "        file = open('21CS60R22_P2.out','a')\n",
    "        k_val = 'k = ' + str(k) + '       \\n'\n",
    "        file.write(k_val)\n",
    "        #calling the KNN Classifier for all the test row\n",
    "        for i in range(len(X_test)):\n",
    "            result = self.KNN_classification(X_train, X_test[i], Y_train, k)\n",
    "            pred = self.prediction(result)\n",
    "            print('Test Instance ', i , ': ', pred)\n",
    "            file.write(str(int(pred))+' ')\n",
    "        file.write('\\n')\n",
    "        file.close()\n",
    "            \n",
    "    def prediction(self, KclosNeigh):\n",
    "        closest = [x[0] for x in KclosNeigh]\n",
    "        one = 0\n",
    "        zero = 0\n",
    "        #print(closest)\n",
    "        for cnt in range(len(closest)):\n",
    "            if int(closest[cnt]) == 0:\n",
    "                zero = zero + 1\n",
    "            else:\n",
    "                one = one + 1\n",
    "        if one > zero:\n",
    "            return 1\n",
    "        else:\n",
    "            return 0"
   ]
  },
  {
   "cell_type": "code",
   "execution_count": 10,
   "id": "0edfd35b",
   "metadata": {
    "scrolled": true
   },
   "outputs": [
    {
     "name": "stdout",
     "output_type": "stream",
     "text": [
      "Enter any K value:\n",
      "Enter 17 for optimal value floor(root(300)) = 17\n",
      "162\n",
      "Test Instance  0 :  1\n",
      "Test Instance  1 :  1\n",
      "Test Instance  2 :  0\n",
      "Test Instance  3 :  1\n"
     ]
    }
   ],
   "source": [
    "print(\"Enter any K value:\")\n",
    "print(\"Enter 17 for optimal value floor(root(300)) = 17\")\n",
    "K = int(input())\n",
    "classifier = KNN()\n",
    "classifier.fit(X_train, X_test, Y_train, K)"
   ]
  },
  {
   "cell_type": "code",
   "execution_count": null,
   "id": "0132cd93",
   "metadata": {},
   "outputs": [],
   "source": []
  }
 ],
 "metadata": {
  "kernelspec": {
   "display_name": "Python 3 (ipykernel)",
   "language": "python",
   "name": "python3"
  },
  "language_info": {
   "codemirror_mode": {
    "name": "ipython",
    "version": 3
   },
   "file_extension": ".py",
   "mimetype": "text/x-python",
   "name": "python",
   "nbconvert_exporter": "python",
   "pygments_lexer": "ipython3",
   "version": "3.10.2"
  }
 },
 "nbformat": 4,
 "nbformat_minor": 5
}
